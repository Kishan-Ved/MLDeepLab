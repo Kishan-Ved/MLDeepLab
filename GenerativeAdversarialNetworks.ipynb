{
  "nbformat": 4,
  "nbformat_minor": 0,
  "metadata": {
    "colab": {
      "provenance": [],
      "gpuType": "T4",
      "authorship_tag": "ABX9TyMC0zmLyr/yPpMV0yrfD7ox",
      "include_colab_link": true
    },
    "kernelspec": {
      "name": "python3",
      "display_name": "Python 3"
    },
    "language_info": {
      "name": "python"
    },
    "accelerator": "GPU"
  },
  "cells": [
    {
      "cell_type": "markdown",
      "metadata": {
        "id": "view-in-github",
        "colab_type": "text"
      },
      "source": [
        "<a href=\"https://colab.research.google.com/github/Kishan-Ved/MLDeepLab/blob/main/GenerativeAdversarialNetworks.ipynb\" target=\"_parent\"><img src=\"https://colab.research.google.com/assets/colab-badge.svg\" alt=\"Open In Colab\"/></a>"
      ]
    },
    {
      "cell_type": "markdown",
      "source": [
        "# Generative Adversarial Networks\n",
        "The following code uses a GAN model to replicate images of digits in the MNIST dataset.\n",
        "\n",
        "Number of epochs = 50\n",
        "\n",
        "Time taken = 839 s (on colab's GPU) for the block with Epochs"
      ],
      "metadata": {
        "id": "NMYUlnMPCQZL"
      }
    },
    {
      "cell_type": "markdown",
      "source": [
        "## Necessary imports, hyperparameters and MNIST Dataset"
      ],
      "metadata": {
        "id": "VIx099XxwbPN"
      }
    },
    {
      "cell_type": "code",
      "source": [
        "import os\n",
        "import torch\n",
        "import torch.nn as nn\n",
        "import torch.optim as optim\n",
        "from torchvision import datasets, transforms\n",
        "from torch.utils.data import DataLoader\n",
        "from torchvision.utils import save_image\n",
        "import numpy as np\n",
        "\n",
        "torch.manual_seed(42)\n",
        "np.random.seed(42)\n",
        "\n",
        "device = torch.device(\"cuda\" if torch.cuda.is_available() else \"cpu\") # GPU or CPU\n",
        "\n",
        "batch_size = 128\n",
        "latent_size = 100\n",
        "hidden_size = 256\n",
        "num_epochs = 50\n",
        "sample_dir = \"samples\"\n",
        "\n",
        "os.makedirs(sample_dir, exist_ok=True) # make a directory\n",
        "\n",
        "transform = transforms.Compose([ # MNIST dataset\n",
        "    transforms.ToTensor(),\n",
        "    transforms.Normalize(mean=(0.5,), std=(0.5,))\n",
        "])\n",
        "\n",
        "mnist_dataset = datasets.MNIST(root=\"./data\", train=True, transform=transform, download=True)\n",
        "data_loader = DataLoader(dataset=mnist_dataset, batch_size=batch_size, shuffle=True)"
      ],
      "metadata": {
        "id": "VcnA8vx6wE6C"
      },
      "execution_count": null,
      "outputs": []
    },
    {
      "cell_type": "markdown",
      "source": [
        "## Defining the Generator function"
      ],
      "metadata": {
        "id": "RHcSRGmwwj1i"
      }
    },
    {
      "cell_type": "code",
      "source": [
        "class Generator(nn.Module):\n",
        "    def __init__(self):\n",
        "        super(Generator, self).__init__()\n",
        "        self.fc1 = nn.Linear(latent_size, hidden_size)\n",
        "        self.fc2 = nn.Linear(hidden_size, 784)\n",
        "        self.relu = nn.ReLU()\n",
        "        self.tanh = nn.Tanh()\n",
        "\n",
        "    def forward(self, x):\n",
        "        x = self.relu(self.fc1(x))\n",
        "        x = self.tanh(self.fc2(x))\n",
        "        return x"
      ],
      "metadata": {
        "id": "8nRCXra6wGC2"
      },
      "execution_count": null,
      "outputs": []
    },
    {
      "cell_type": "markdown",
      "source": [
        "## Defining the discriminator function"
      ],
      "metadata": {
        "id": "D9ADsHehwpux"
      }
    },
    {
      "cell_type": "code",
      "source": [
        "class Discriminator(nn.Module):\n",
        "    def __init__(self):\n",
        "        super(Discriminator, self).__init__()\n",
        "        self.fc1 = nn.Linear(784, hidden_size)\n",
        "        self.fc2 = nn.Linear(hidden_size, 1)\n",
        "        self.relu = nn.ReLU()\n",
        "        self.sigmoid = nn.Sigmoid()\n",
        "\n",
        "    def forward(self, x):\n",
        "        x = self.relu(self.fc1(x))\n",
        "        x = self.sigmoid(self.fc2(x))\n",
        "        return x"
      ],
      "metadata": {
        "id": "hEIVmyIfwLIC"
      },
      "execution_count": null,
      "outputs": []
    },
    {
      "cell_type": "markdown",
      "source": [
        "## Calling the created functions and Optimisers (gradinet descent)"
      ],
      "metadata": {
        "id": "Fr1seJ6XwteG"
      }
    },
    {
      "cell_type": "code",
      "source": [
        "generator = Generator().to(device)\n",
        "discriminator = Discriminator().to(device)\n",
        "\n",
        "optimizer_G = optim.Adam(generator.parameters(), lr=0.0002, betas=(0.5, 0.999)) # Optimisers or gradient descent\n",
        "optimizer_D = optim.Adam(discriminator.parameters(), lr=0.0002, betas=(0.5, 0.999))"
      ],
      "metadata": {
        "id": "ukzZVlU8wRN0"
      },
      "execution_count": null,
      "outputs": []
    },
    {
      "cell_type": "markdown",
      "source": [
        "## Epochs and Loss Functions\n",
        "The loss functions are:\n",
        "\n",
        "For G:\n",
        "\n",
        "E[log(1-D(G(z)))]\n",
        "\n",
        "---\n",
        "\n",
        "For D:\n",
        "\n",
        "E[log(D(x))+log(1-D(G(z))]"
      ],
      "metadata": {
        "id": "V04GBNCpw2Nx"
      }
    },
    {
      "cell_type": "code",
      "source": [
        "total_step = len(data_loader)\n",
        "for epoch in range(num_epochs):\n",
        "    print(\"Epoch:\",(epoch+1))\n",
        "    for i, (images, _) in enumerate(data_loader):\n",
        "        batch_size = images.size(0)\n",
        "        images = images.view(batch_size, -1).to(device) # images to tensor\n",
        "        real_labels = torch.ones(batch_size, 1).to(device) # Generate ones\n",
        "        fake_labels = torch.zeros(batch_size, 1).to(device) # Generate zeros\n",
        "\n",
        "        discriminator.zero_grad() # Gradient of discriminator parameters are set to 0, to prepare for gradient descent\n",
        "\n",
        "        outputs_real = discriminator(images) # Put real images into discriminator\n",
        "        d_loss_real = torch.log(outputs_real).mean() # Find the mean loss\n",
        "\n",
        "        z = torch.randn(batch_size, latent_size).to(device) # Generate random noise\n",
        "        fake_images = generator(z) # transforms random noise passed into image like data\n",
        "        outputs_fake = discriminator(fake_images.detach())\n",
        "        d_loss_fake = (torch.log(1 - outputs_fake)+torch.log(outputs_real)).mean()\n",
        "\n",
        "        d_loss = -(d_loss_real + d_loss_fake)  # Negate the loss for ascending gradient\n",
        "        d_loss.backward()\n",
        "        optimizer_D.step()\n",
        "\n",
        "        generator.zero_grad()\n",
        "        z = torch.randn(batch_size, latent_size).to(device)\n",
        "        fake_images = generator(z)\n",
        "        outputs_fake = discriminator(fake_images)\n",
        "        g_loss = torch.log(1 - outputs_fake).mean()  # Descending gradient\n",
        "        g_loss.backward()\n",
        "        optimizer_G.step()"
      ],
      "metadata": {
        "id": "ZTiLi1EKxKSZ",
        "colab": {
          "base_uri": "https://localhost:8080/"
        },
        "outputId": "7d32cb8d-cf34-4f24-f8f5-a423fd0382e6"
      },
      "execution_count": null,
      "outputs": [
        {
          "output_type": "stream",
          "name": "stdout",
          "text": [
            "Epoch: 1\n",
            "Epoch: 2\n",
            "Epoch: 3\n",
            "Epoch: 4\n",
            "Epoch: 5\n",
            "Epoch: 6\n",
            "Epoch: 7\n",
            "Epoch: 8\n",
            "Epoch: 9\n",
            "Epoch: 10\n",
            "Epoch: 11\n",
            "Epoch: 12\n",
            "Epoch: 13\n",
            "Epoch: 14\n",
            "Epoch: 15\n",
            "Epoch: 16\n",
            "Epoch: 17\n",
            "Epoch: 18\n",
            "Epoch: 19\n",
            "Epoch: 20\n",
            "Epoch: 21\n",
            "Epoch: 22\n",
            "Epoch: 23\n",
            "Epoch: 24\n",
            "Epoch: 25\n",
            "Epoch: 26\n",
            "Epoch: 27\n",
            "Epoch: 28\n",
            "Epoch: 29\n",
            "Epoch: 30\n",
            "Epoch: 31\n",
            "Epoch: 32\n",
            "Epoch: 33\n",
            "Epoch: 34\n",
            "Epoch: 35\n",
            "Epoch: 36\n",
            "Epoch: 37\n",
            "Epoch: 38\n",
            "Epoch: 39\n",
            "Epoch: 40\n",
            "Epoch: 41\n",
            "Epoch: 42\n",
            "Epoch: 43\n",
            "Epoch: 44\n",
            "Epoch: 45\n",
            "Epoch: 46\n",
            "Epoch: 47\n",
            "Epoch: 48\n",
            "Epoch: 49\n",
            "Epoch: 50\n"
          ]
        }
      ]
    },
    {
      "cell_type": "markdown",
      "source": [
        "## Showing the generated images"
      ],
      "metadata": {
        "id": "ILTOqIEtCvqu"
      }
    },
    {
      "cell_type": "code",
      "source": [
        "import matplotlib.pyplot as plt\n",
        "\n",
        "dataset = datasets.MNIST(root=\"data\", train=True, transform=transform, download=True)\n",
        "dataloader = DataLoader(dataset, batch_size=batch_size, shuffle=True)\n",
        "\n",
        "num_samples = 10\n",
        "noise = torch.randn(num_samples, latent_size).to(device)\n",
        "generated_images = generator(noise).detach().cpu()\n",
        "generated_images = generated_images.view(-1, 1, 28, 28)  # Reshape the generated images\n",
        "\n",
        "fig, axes = plt.subplots(num_samples, figsize=(10, 2 * num_samples))\n",
        "for i in range(num_samples):\n",
        "    # axes[i, 0].imshow(dataset[i][0].squeeze(), cmap='gray')\n",
        "    # axes[i, 0].axis('off')\n",
        "    # axes[i, 0].set_title('Original')\n",
        "\n",
        "    axes[i].imshow(generated_images[i][0], cmap='gray')  # Access the image tensor directly\n",
        "    axes[i].axis('off')\n",
        "    axes[i].set_title('Generated')\n",
        "\n",
        "plt.tight_layout()\n",
        "plt.show()"
      ],
      "metadata": {
        "colab": {
          "base_uri": "https://localhost:8080/",
          "height": 1000
        },
        "id": "xI9IOorwZ495",
        "outputId": "9bb6ec63-592b-48a9-c9a8-0ccbddcf5918"
      },
      "execution_count": null,
      "outputs": [
        {
          "output_type": "display_data",
          "data": {
            "text/plain": [
              "<Figure size 1000x2000 with 10 Axes>"
            ],
            "image/png": "[encoded data removed]"
          },
          "metadata": {}
        }
      ]
    },
    {
      "cell_type": "code",
      "source": [
        "print(d_loss)\n",
        "print(g_loss)"
      ],
      "metadata": {
        "colab": {
          "base_uri": "https://localhost:8080/"
        },
        "id": "IQtoxBgEzqe3",
        "outputId": "6d1a13c3-f29f-440b-8bd7-5beddc7fa0e7"
      },
      "execution_count": null,
      "outputs": [
        {
          "output_type": "stream",
          "name": "stdout",
          "text": [
            "tensor(1.5891, device='cuda:0', grad_fn=<NegBackward0>)\n",
            "tensor(-1.2070, device='cuda:0', grad_fn=<MeanBackward0>)\n"
          ]
        }
      ]
    },
    {
      "cell_type": "code",
      "source": [],
      "metadata": {
        "id": "jWftI1RvBSiN"
      },
      "execution_count": null,
      "outputs": []
    }
  ]
}