{
  "nbformat": 4,
  "nbformat_minor": 0,
  "metadata": {
    "colab": {
      "provenance": [],
      "authorship_tag": "ABX9TyPtZlxTUaZ6kPPiSUZYQGCa",
      "include_colab_link": true
    },
    "kernelspec": {
      "name": "python3",
      "display_name": "Python 3"
    },
    "language_info": {
      "name": "python"
    }
  },
  "cells": [
    {
      "cell_type": "markdown",
      "metadata": {
        "id": "view-in-github",
        "colab_type": "text"
      },
      "source": [
        "<a href=\"https://colab.research.google.com/github/Kishan-Ved/MLDeepLab/blob/main/gradient_descent_from_scratch.ipynb\" target=\"_parent\"><img src=\"https://colab.research.google.com/assets/colab-badge.svg\" alt=\"Open In Colab\"/></a>"
      ]
    },
    {
      "cell_type": "markdown",
      "source": [
        "##**Gradient Descent for one feature**\n",
        "The following describes in detail the algorithm of gradient descent for one single feature x."
      ],
      "metadata": {
        "id": "CZrFvZ4MQe_l"
      }
    },
    {
      "cell_type": "markdown",
      "source": [
        "###**Cost Function**"
      ],
      "metadata": {
        "id": "PB3dRW1HQrSg"
      }
    },
    {
      "cell_type": "code",
      "source": [
        "def cost_func(x,y,w,b):\n",
        "  cost = 0\n",
        "  n = y.shape[0]\n",
        "  for i in range(n):\n",
        "    f = w*x[i]+b\n",
        "    cost += (f -y[i])**2\n",
        "  cost = cost/(2*n)\n",
        "  return cost"
      ],
      "metadata": {
        "id": "7MYsevawq0Z1"
      },
      "execution_count": 1,
      "outputs": []
    },
    {
      "cell_type": "markdown",
      "source": [
        "###**Derivative Function**"
      ],
      "metadata": {
        "id": "NiUo_7gNQ4k9"
      }
    },
    {
      "cell_type": "code",
      "source": [
        "def derivative_func(x,y,w,b):\n",
        "  dw = 0\n",
        "  db = 0\n",
        "  n = y.shape[0]\n",
        "  for i in range(n):\n",
        "    f = w*x[i] + b\n",
        "    dw += (f - y[i])*x[i]\n",
        "    db += (f - y[i])\n",
        "  dw = dw/n\n",
        "  db = db/n\n",
        "  return dw, db"
      ],
      "metadata": {
        "id": "puWPvsW7rQv3"
      },
      "execution_count": 2,
      "outputs": []
    },
    {
      "cell_type": "markdown",
      "source": [
        "###**Gradient Descent Function**"
      ],
      "metadata": {
        "id": "rQRv-qRcQ9EE"
      }
    },
    {
      "cell_type": "code",
      "source": [
        "def grad_desc(x,y,w,b,a,n,derivative_func, cost_func):\n",
        "  cost_arr = []\n",
        "  for i in range(n):\n",
        "    dw,db = derivative_func(x,y,w,b)\n",
        "    w = w - a * dw\n",
        "    b = b - a * db\n",
        "    cost = cost_func(x,y,w,b)\n",
        "    cost_arr.append(cost)\n",
        "    if(i%100==0 or i==n-1):\n",
        "      print(\"iteration:\",i+1,\"w:\", w,\"b:\", b, \"cost:\", cost)\n",
        "  return w, b, cost, cost_arr"
      ],
      "metadata": {
        "id": "DNURqxk7sbpL"
      },
      "execution_count": 37,
      "outputs": []
    },
    {
      "cell_type": "markdown",
      "source": [
        "###**Implementation**"
      ],
      "metadata": {
        "id": "iKjqIUzqRBew"
      }
    },
    {
      "cell_type": "code",
      "execution_count": 38,
      "metadata": {
        "id": "SLVsfb7kqcru"
      },
      "outputs": [],
      "source": [
        "import numpy as np\n",
        "x_train = np.array([3,5])\n",
        "y_train = np.array([30,50])\n",
        "w = 1\n",
        "b = 1\n",
        "a = 0.01\n",
        "n = 10000"
      ]
    },
    {
      "cell_type": "code",
      "source": [
        "w,b,cost,cost_arr = grad_desc(x_train, y_train, w, b, a, n, derivative_func, cost_func)"
      ],
      "metadata": {
        "colab": {
          "base_uri": "https://localhost:8080/"
        },
        "id": "4iSFDde7s_l0",
        "outputId": "8911b1a4-f91c-461d-c97b-0ee6a807b250"
      },
      "execution_count": 39,
      "outputs": [
        {
          "output_type": "stream",
          "name": "stdout",
          "text": [
            "iteration: 1 w: 2.49 b: 1.35 cost: 439.75810000000007\n",
            "iteration: 101 w: 9.339565362904866 b: 2.7976459389680706 cost: 0.23024051215739977\n",
            "iteration: 201 w: 9.375373101618957 b: 2.645962002116952 cost: 0.2059507823972854\n",
            "iteration: 301 w: 9.409239384745288 b: 2.5025021246485672 cost: 0.18422355115792033\n",
            "iteration: 401 w: 9.441269491530562 b: 2.366820414979559 cost: 0.16478848201589685\n",
            "iteration: 501 w: 9.471562976553681 b: 2.2384951531462525 cost: 0.14740375828400765\n",
            "iteration: 601 w: 9.500213996701634 b: 2.1171274841748158 cost: 0.1318530742588818\n",
            "iteration: 701 w: 9.527311603823819 b: 2.002340178377654 cost: 0.11794294388356959\n",
            "iteration: 801 w: 9.552940021519124 b: 1.8937764588645787 cost: 0.10550029333871105\n",
            "iteration: 901 w: 9.577178906916032 b: 1.7910988926244504 cost: 0.09437030760858088\n",
            "iteration: 1001 w: 9.600103598259423 b: 1.6939883417306432 cost: 0.08441450422840094\n",
            "iteration: 1101 w: 9.621785349073628 b: 1.6021429714104642 cost: 0.07550901024591822\n",
            "iteration: 1201 w: 9.642291549629508 b: 1.5152773118955152 cost: 0.06754302095871141\n",
            "iteration: 1301 w: 9.661685936403957 b: 1.433121371137018 cost: 0.0604174212504073\n",
            "iteration: 1401 w: 9.680028790182844 b: 1.355419795628318 cost: 0.05404355237205757\n",
            "iteration: 1501 w: 9.6973771234231 b: 1.2819310767262733 cost: 0.04834210882464059\n",
            "iteration: 1601 w: 9.713784857456362 b: 1.2124268000046385 cost: 0.043242151617364485\n",
            "iteration: 1701 w: 9.729302990084895 b: 1.1466909353063202 cost: 0.03868022562445457\n",
            "iteration: 1801 w: 9.74397975409073 b: 1.0845191652878774 cost: 0.034599570058348496\n",
            "iteration: 1901 w: 9.757860767150701 b: 1.0257182503692823 cost: 0.030949412235737803\n",
            "iteration: 2001 w: 9.7709891736233 b: 0.970105428115095 cost: 0.027684335849326697\n",
            "iteration: 2101 w: 9.78340577864811 b: 0.9175078451802461 cost: 0.024763715885153796\n",
            "iteration: 2201 w: 9.795149174974528 b: 0.8677620200548155 cost: 0.022151213154551198\n",
            "iteration: 2301 w: 9.806255862914089 b: 0.8207133349379552 cost: 0.019814322151569225\n",
            "iteration: 2401 w: 9.81676036378913 b: 0.7762155551615757 cost: 0.01772396661017591\n",
            "iteration: 2501 w: 9.826695327230455 b: 0.7341303746701543 cost: 0.01585413772904501\n",
            "iteration: 2601 w: 9.836091632657489 b: 0.694326986143886 cost: 0.014181570562607746\n",
            "iteration: 2701 w: 9.844978485256348 b: 0.6566816744290933 cost: 0.012685454551954486\n",
            "iteration: 2801 w: 9.853383506754124 b: 0.621077432012172 cost: 0.011347174593905366\n",
            "iteration: 2901 w: 9.861332821271517 b: 0.5874035953419712 cost: 0.010150079426577727\n",
            "iteration: 3001 w: 9.868851136520698 b: 0.5555555008701584 cost: 0.009079274449621191\n",
            "iteration: 3101 w: 9.875961820600743 b: 0.5254341597405601 cost: 0.008121436401343444\n",
            "iteration: 3201 w: 9.88268697462933 b: 0.49694595011631976 cost: 0.007264647586881216\n",
            "iteration: 3301 w: 9.889047501436464 b: 0.47000232618859034 cost: 0.00649824759482768\n",
            "iteration: 3401 w: 9.895063170533751 b: 0.44451954296232915 cost: 0.00581270065735045\n",
            "iteration: 3501 w: 9.900752679561133 b: 0.42041839596374814 cost: 0.00519947700343959\n",
            "iteration: 3601 w: 9.906133712402054 b: 0.3976239750604395 cost: 0.004650946729058455\n",
            "iteration: 3701 w: 9.911222994147764 b: 0.37606543162896877 cost: 0.004160284863694492\n",
            "iteration: 3801 w: 9.916036343081492 b: 0.3556757583462743 cost: 0.0037213864521273275\n",
            "iteration: 3901 w: 9.920588719844154 b: 0.33639158092044336 cost: 0.0033287905948298775\n",
            "iteration: 4001 w: 9.924894273934369 b: 0.3181529611134936 cost: 0.0029776125018920884\n",
            "iteration: 4101 w: 9.928966387687296 b: 0.30090321044397317 cost: 0.00266348271507243\n",
            "iteration: 4201 w: 9.932817717869048 b: 0.2845887139902829 cost: 0.0023824927417454853\n",
            "iteration: 4301 w: 9.93646023501587 b: 0.2691587637471333 cost: 0.002131146424322084\n",
            "iteration: 4401 w: 9.939905260640463 b: 0.2545654010171292 cost: 0.001906316440054949\n",
            "iteration: 4501 w: 9.943163502421001 b: 0.2407632673476406 cost: 0.0017052053899958256\n",
            "iteration: 4601 w: 9.946245087482273 b: 0.2277094635496474 cost: 0.0015253109929568177\n",
            "iteration: 4701 w: 9.949159593872366 b: 0.21536341636035097 cost: 0.001364394951414451\n",
            "iteration: 4801 w: 9.951916080332746 b: 0.2036867523351264 cost: 0.001220455101970358\n",
            "iteration: 4901 w: 9.95452311445423 b: 0.19264317857686616 cost: 0.0010917005038612597\n",
            "iteration: 5001 w: 9.956988799306398 b: 0.1821983699319763 cost: 0.0009765291555642971\n",
            "iteration: 5101 w: 9.959320798623219 b: 0.17231986230243798 cost: 0.0008735080622334296\n",
            "iteration: 5201 w: 9.961526360623111 b: 0.16297695174230992 cost: 0.0007813554059691848\n",
            "iteration: 5301 w: 9.963612340537546 b: 0.1541405990250685 cost: 0.0006989245970740047\n",
            "iteration: 5401 w: 9.965585221918182 b: 0.14578333938515137 cost: 0.0006251900078543284\n",
            "iteration: 5501 w: 9.967451136788755 b: 0.1378791971531778 cost: 0.0005592342114691611\n",
            "iteration: 5601 w: 9.969215884704363 b: 0.13040360501950188 cost: 0.0005002365670410818\n",
            "iteration: 5701 w: 9.970884950777405 b: 0.12333332767517048 cost: 0.00044746300900952603\n",
            "iteration: 5801 w: 9.97246352272614 b: 0.11664638959295495 cost: 0.00040025691367620076\n",
            "iteration: 5901 w: 9.97395650699895 b: 0.11032200672398479 cost: 0.0003580309293056527\n",
            "iteration: 6001 w: 9.975368544024345 b: 0.10434052189766362 cost: 0.00032025966812710625\n",
            "iteration: 6101 w: 9.976704022634133 b: 0.09868334372411054 cost: 0.00028647316930910654\n",
            "iteration: 6201 w: 9.977967093704596 b: 0.09333288880922198 cost: 0.00025625105157298534\n",
            "iteration: 6301 w: 9.979161683058063 b: 0.08827252710273104 cost: 0.0002292172826886905\n",
            "iteration: 6401 w: 9.980291503664992 b: 0.08348653020940747 cost: 0.00020503550077424578\n",
            "iteration: 6501 w: 9.981360067184436 b: 0.07896002250274999 cost: 0.0001834048291849217\n",
            "iteration: 6601 w: 9.982370694878863 b: 0.07467893488921702 cost: 0.00016405613292008877\n",
            "iteration: 6701 w: 9.983326527937127 b: 0.07062996107927426 cost: 0.00014674866996850262\n",
            "iteration: 6801 w: 9.984230537237789 b: 0.06680051622937841 cost: 0.00013126709592753912\n",
            "iteration: 6901 w: 9.985085532583073 b: 0.06317869782630874 cost: 0.00011741878462651558\n",
            "iteration: 7001 w: 9.985894171432166 b: 0.0597532486922987 cost: 0.00010503143141656318\n",
            "iteration: 7101 w: 9.986658967161024 b: 0.05651352199596749 cost: 9.395090930719517e-05\n",
            "iteration: 7201 w: 9.987382296874317 b: 0.05344944816030203 cost: 8.403935127422673e-05\n",
            "iteration: 7301 w: 9.988066408793873 b: 0.05055150356484316 cost: 7.517343487865789e-05\n",
            "iteration: 7401 w: 9.98871342924648 b: 0.04781068094477002 cost: 6.724284785364107e-05\n",
            "iteration: 7501 w: 9.989325369272846 b: 0.04521846139493253 cost: 6.014891556793781e-05\n",
            "iteration: 7601 w: 9.989904130878234 b: 0.0427667878917476 cost: 5.380337328775985e-05\n",
            "iteration: 7701 w: 9.990451512944183 b: 0.040448040250715044 cost: 4.812726796165485e-05\n",
            "iteration: 7801 w: 9.990969216819725 b: 0.03825501144170068 cost: 4.3049975864271824e-05\n",
            "iteration: 7901 w: 9.991458851609437 b: 0.03618088518834209 cost: 3.850832387553253e-05\n",
            "iteration: 8001 w: 9.991921939174778 b: 0.034219214782015284 cost: 3.4445803462908096e-05\n",
            "iteration: 8101 w: 9.992359918864297 b: 0.03236390304444657 cost: 3.081186758585819e-05\n",
            "iteration: 8201 w: 9.992774151987335 b: 0.030609183376727626 cost: 2.756130177513599e-05\n",
            "iteration: 8301 w: 9.993165926045192 b: 0.02894960183582901 cost: 2.4653661561485263e-05\n",
            "iteration: 8401 w: 9.993536458732882 b: 0.027380000182893945 cost: 2.205276925405976e-05\n",
            "iteration: 8501 w: 9.993886901723917 b: 0.025895499850621943 cost: 1.97262638071178e-05\n",
            "iteration: 8601 w: 9.994218344249902 b: 0.024491486779919497 cost: 1.7645198174645112e-05\n",
            "iteration: 8701 w: 9.994531816486013 b: 0.02316359707868738 cost: 1.5783679143059506e-05\n",
            "iteration: 8801 w: 9.994828292752969 b: 0.021907703458153932 cost: 1.4118545160273562e-05\n",
            "iteration: 8901 w: 9.995108694545348 b: 0.020719902404621453 cost: 1.262907815320633e-05\n",
            "iteration: 9001 w: 9.995373893395755 b: 0.019596502046739055 cost: 1.1296745747482045e-05\n",
            "iteration: 9101 w: 9.995624713583677 b: 0.018534010680580106 cost: 1.0104970682320256e-05\n",
            "iteration: 9201 w: 9.99586193469746 b: 0.01752912591688735 cost: 9.038924551674657e-06\n",
            "iteration: 9301 w: 9.996086294057417 b: 0.016578724416733255 cost: 8.085343304708596e-06\n",
            "iteration: 9401 w: 9.996298489007502 b: 0.015679852183681973 cost: 7.23236221095301e-06\n",
            "iteration: 9501 w: 9.996499179082797 b: 0.014829715382324277 cost: 6.469368235706646e-06\n",
            "iteration: 9601 w: 9.996688988059427 b: 0.014025671654583972 cost: 5.786867989809793e-06\n",
            "iteration: 9701 w: 9.996868505893358 b: 0.013265221906866779 cost: 5.176369610027965e-06\n",
            "iteration: 9801 w: 9.997038290554087 b: 0.012546002542482825 cost: 4.630277100996098e-06\n",
            "iteration: 9901 w: 9.997198869758881 b: 0.011865778115217215 cost: 4.141795823558715e-06\n",
            "iteration: 10000 w: 9.997349265409245 b: 0.011228691916751294 cost: 3.7089806903241235e-06\n"
          ]
        }
      ]
    },
    {
      "cell_type": "markdown",
      "source": [
        "###**Result of the model**"
      ],
      "metadata": {
        "id": "xp6LqDIgWhhc"
      }
    },
    {
      "cell_type": "code",
      "source": [
        "print(\"After 10000 iterations\")\n",
        "print(\"w:\", w,\"b:\", b, \"cost:\", cost)"
      ],
      "metadata": {
        "colab": {
          "base_uri": "https://localhost:8080/"
        },
        "id": "wEQdH5D1G8NB",
        "outputId": "fe91a7ad-4ef6-4418-b2cf-ef51fd467e0b"
      },
      "execution_count": 46,
      "outputs": [
        {
          "output_type": "stream",
          "name": "stdout",
          "text": [
            "After 10000 iterations\n",
            "w: 9.997349265409245 b: 0.011228691916751294 cost: 3.7089806903241235e-06\n"
          ]
        }
      ]
    },
    {
      "cell_type": "markdown",
      "source": [
        "###**Visualizing the cost**"
      ],
      "metadata": {
        "id": "x2plMABtWZkK"
      }
    },
    {
      "cell_type": "code",
      "source": [
        "import matplotlib.pyplot as plt\n",
        "plt.plot(np.arange(1,10001,1), cost_arr)\n",
        "plt.xlim([0,100])\n",
        "plt.title(\"Cost vs Number of iterations\")\n",
        "plt.xlabel(\"Number of iterations\")\n",
        "plt.ylabel(\"Cost\")\n",
        "plt.show()"
      ],
      "metadata": {
        "colab": {
          "base_uri": "https://localhost:8080/",
          "height": 472
        },
        "id": "wt4qTiaxUgRo",
        "outputId": "6c341cf5-0566-42e7-b22d-a3788df6dccd"
      },
      "execution_count": 45,
      "outputs": [
        {
          "output_type": "display_data",
          "data": {
            "text/plain": [
              "<Figure size 640x480 with 1 Axes>"
            ],
            "image/png": "[encoded data removed]"
          },
          "metadata": {}
        }
      ]
    }
  ]
}