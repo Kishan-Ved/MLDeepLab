{
  "nbformat": 4,
  "nbformat_minor": 0,
  "metadata": {
    "colab": {
      "provenance": [],
      "authorship_tag": "ABX9TyMZAcvhjB8wjNy2W1QYSnPG",
      "include_colab_link": true
    },
    "kernelspec": {
      "name": "python3",
      "display_name": "Python 3"
    },
    "language_info": {
      "name": "python"
    }
  },
  "cells": [
    {
      "cell_type": "markdown",
      "metadata": {
        "id": "view-in-github",
        "colab_type": "text"
      },
      "source": [
        "<a href=\"https://colab.research.google.com/github/Kishan-Ved/MLDeepLab/blob/main/multi_class_neural_network.ipynb\" target=\"_parent\"><img src=\"https://colab.research.google.com/assets/colab-badge.svg\" alt=\"Open In Colab\"/></a>"
      ]
    },
    {
      "cell_type": "code",
      "source": [
        "import tensorflow as tf\n",
        "from tensorflow.keras.layers import Dense\n",
        "from tensorflow.keras.models import Sequential"
      ],
      "metadata": {
        "id": "Cm-O76oEpjYV"
      },
      "execution_count": null,
      "outputs": []
    },
    {
      "cell_type": "markdown",
      "source": [
        "##**Generating data**"
      ],
      "metadata": {
        "id": "IcMAOF4hpF5G"
      }
    },
    {
      "cell_type": "code",
      "execution_count": null,
      "metadata": {
        "id": "qGLX1rGIoVUD"
      },
      "outputs": [],
      "source": [
        "from sklearn.datasets import make_blobs\n",
        "centers = [[-5, 2], [-2, -2], [1, 2], [5, -2]]\n",
        "X,y= make_blobs(n_samples=2000, centers=centers, cluster_std=1.0,random_state=30)\n",
        "\n",
        "from sklearn.model_selection import train_test_split\n",
        "Xtrain, Xtest, ytrain, ytest = train_test_split(X,y)"
      ]
    },
    {
      "cell_type": "markdown",
      "source": [
        "##**Creating the neural network**"
      ],
      "metadata": {
        "id": "-6LT0HM_rEvd"
      }
    },
    {
      "cell_type": "code",
      "source": [
        "model = Sequential([\n",
        "    Dense(units=25,activation='relu'),\n",
        "    Dense(units=15,activation='relu'),\n",
        "    Dense(units=4,activation='linear')\n",
        "])"
      ],
      "metadata": {
        "id": "U3vc2NuIqbuR"
      },
      "execution_count": null,
      "outputs": []
    },
    {
      "cell_type": "code",
      "source": [
        "model.compile(loss=tf.keras.losses.SparseCategoricalCrossentropy(from_logits=True),\n",
        "              optimizer=tf.optimizers.Adam(0.001),)"
      ],
      "metadata": {
        "id": "tHf4MKEDrH9A"
      },
      "execution_count": null,
      "outputs": []
    },
    {
      "cell_type": "code",
      "source": [
        "model.fit(Xtrain,ytrain,epochs=10)"
      ],
      "metadata": {
        "colab": {
          "base_uri": "https://localhost:8080/"
        },
        "id": "_Q5chw-hrjEt",
        "outputId": "f6480960-eb95-46fa-d261-bc653135d1ac"
      },
      "execution_count": null,
      "outputs": [
        {
          "output_type": "stream",
          "name": "stdout",
          "text": [
            "Epoch 1/10\n",
            "47/47 [==============================] - 1s 2ms/step - loss: 0.9830\n",
            "Epoch 2/10\n",
            "47/47 [==============================] - 0s 2ms/step - loss: 0.6116\n",
            "Epoch 3/10\n",
            "47/47 [==============================] - 0s 2ms/step - loss: 0.3040\n",
            "Epoch 4/10\n",
            "47/47 [==============================] - 0s 3ms/step - loss: 0.1548\n",
            "Epoch 5/10\n",
            "47/47 [==============================] - 0s 4ms/step - loss: 0.0988\n",
            "Epoch 6/10\n",
            "47/47 [==============================] - 0s 4ms/step - loss: 0.0727\n",
            "Epoch 7/10\n",
            "47/47 [==============================] - 0s 4ms/step - loss: 0.0612\n",
            "Epoch 8/10\n",
            "47/47 [==============================] - 0s 4ms/step - loss: 0.0549\n",
            "Epoch 9/10\n",
            "47/47 [==============================] - 0s 4ms/step - loss: 0.0507\n",
            "Epoch 10/10\n",
            "47/47 [==============================] - 0s 3ms/step - loss: 0.0474\n"
          ]
        },
        {
          "output_type": "execute_result",
          "data": {
            "text/plain": [
              "<keras.callbacks.History at 0x7da779c31a50>"
            ]
          },
          "metadata": {},
          "execution_count": 13
        }
      ]
    },
    {
      "cell_type": "markdown",
      "source": [
        "##**Predictions of our neural network**"
      ],
      "metadata": {
        "id": "0s2CNibnszSY"
      }
    },
    {
      "cell_type": "code",
      "source": [
        "z_pred = model.predict(Xtest)"
      ],
      "metadata": {
        "colab": {
          "base_uri": "https://localhost:8080/"
        },
        "id": "lAfo1xZ8sGXz",
        "outputId": "0594463e-a4db-44be-f304-cba9a5de19a9"
      },
      "execution_count": null,
      "outputs": [
        {
          "output_type": "stream",
          "name": "stdout",
          "text": [
            "16/16 [==============================] - 0s 1ms/step\n"
          ]
        }
      ]
    },
    {
      "cell_type": "code",
      "source": [
        "z_pred"
      ],
      "metadata": {
        "colab": {
          "base_uri": "https://localhost:8080/"
        },
        "id": "L23X6NW6sMPh",
        "outputId": "f029a408-f083-4ec0-df48-b50d81585f40"
      },
      "execution_count": null,
      "outputs": [
        {
          "output_type": "execute_result",
          "data": {
            "text/plain": [
              "array([[-3.993621  , -3.7787347 , -0.25490975, -0.07915557],\n",
              "       [ 3.1840923 , -1.6633781 , -3.830906  , -7.8026066 ],\n",
              "       [-2.4112265 , -6.316679  ,  4.8291907 , -4.6041875 ],\n",
              "       ...,\n",
              "       [-4.908304  ,  2.9423723 , -3.8089552 , -3.944756  ],\n",
              "       [-3.3867204 , -5.7413936 ,  3.1279325 , -2.993482  ],\n",
              "       [ 3.0492527 , -2.0576117 , -3.2582407 , -6.9038754 ]],\n",
              "      dtype=float32)"
            ]
          },
          "metadata": {},
          "execution_count": 17
        }
      ]
    },
    {
      "cell_type": "markdown",
      "source": [
        "##**Array of arrays containing probability of category = index i**"
      ],
      "metadata": {
        "id": "1YxZgo7TsiDW"
      }
    },
    {
      "cell_type": "code",
      "source": [
        "prob_pred = tf.nn.softmax(z_pred).numpy()\n",
        "prob_pred"
      ],
      "metadata": {
        "colab": {
          "base_uri": "https://localhost:8080/"
        },
        "id": "Z2wOkbhNsxgn",
        "outputId": "0574f636-8a6e-4b19-b676-1da3d707b52f"
      },
      "execution_count": null,
      "outputs": [
        {
          "output_type": "execute_result",
          "data": {
            "text/plain": [
              "array([[1.05925733e-02, 1.31318374e-02, 4.45351750e-01, 5.30923843e-01],\n",
              "       [9.91312504e-01, 7.78002478e-03, 8.90503230e-04, 1.67782946e-05],\n",
              "       [7.16431008e-04, 1.44230735e-05, 9.99189198e-01, 7.99435875e-05],\n",
              "       ...,\n",
              "       [3.88486253e-04, 9.97427046e-01, 1.16631761e-03, 1.01821462e-03],\n",
              "       [1.47593522e-03, 1.40102551e-04, 9.96196985e-01, 2.18699919e-03],\n",
              "       [9.92137134e-01, 6.00742921e-03, 1.80826557e-03, 4.72044776e-05]],\n",
              "      dtype=float32)"
            ]
          },
          "metadata": {},
          "execution_count": 25
        }
      ]
    },
    {
      "cell_type": "markdown",
      "source": [
        "##**Predicting the category**\n",
        "We dont need to use probabilities here, we can simply take the index of the maximum z value in the z_pred array as the values of z_pred and prob_pred increase or decrease together."
      ],
      "metadata": {
        "id": "h9x1eGLzsIOa"
      }
    },
    {
      "cell_type": "code",
      "source": [
        "import numpy as np\n",
        "pred = np.argmax(z_pred,axis=1) # Max of z_pred is the category"
      ],
      "metadata": {
        "id": "gs5N7VMfsSjU"
      },
      "execution_count": null,
      "outputs": []
    },
    {
      "cell_type": "code",
      "source": [
        "pred"
      ],
      "metadata": {
        "colab": {
          "base_uri": "https://localhost:8080/"
        },
        "id": "RPW16_zXsZ5S",
        "outputId": "7251fd04-aed8-4d66-cca1-0943ab09f775"
      },
      "execution_count": null,
      "outputs": [
        {
          "output_type": "execute_result",
          "data": {
            "text/plain": [
              "array([3, 0, 2, 0, 0, 3, 2, 3, 1, 3, 1, 2, 1, 2, 3, 2, 3, 2, 3, 3, 1, 0,\n",
              "       1, 0, 1, 3, 2, 3, 2, 1, 0, 1, 0, 2, 2, 2, 0, 2, 2, 1, 3, 1, 0, 1,\n",
              "       0, 1, 2, 3, 3, 0, 0, 1, 2, 3, 2, 2, 3, 0, 0, 3, 1, 1, 1, 3, 3, 2,\n",
              "       0, 3, 3, 1, 0, 1, 3, 2, 1, 3, 1, 2, 2, 2, 0, 3, 1, 1, 0, 0, 2, 2,\n",
              "       2, 2, 3, 0, 0, 1, 2, 0, 0, 2, 1, 3, 2, 3, 1, 2, 2, 1, 2, 1, 0, 0,\n",
              "       1, 3, 1, 0, 2, 3, 0, 1, 2, 1, 1, 0, 0, 0, 1, 0, 1, 3, 1, 2, 3, 2,\n",
              "       2, 0, 3, 0, 1, 3, 2, 0, 0, 0, 2, 3, 2, 1, 2, 2, 1, 2, 3, 2, 3, 0,\n",
              "       1, 0, 1, 2, 2, 0, 3, 1, 3, 2, 3, 1, 1, 0, 2, 3, 3, 0, 2, 0, 0, 1,\n",
              "       3, 2, 0, 1, 2, 0, 0, 1, 2, 0, 0, 2, 0, 1, 3, 0, 2, 1, 1, 3, 0, 2,\n",
              "       3, 1, 0, 2, 0, 0, 2, 3, 3, 1, 3, 0, 0, 1, 3, 3, 3, 2, 1, 0, 2, 0,\n",
              "       0, 2, 0, 1, 1, 2, 2, 1, 1, 3, 0, 2, 3, 1, 0, 0, 2, 2, 2, 1, 2, 0,\n",
              "       0, 1, 3, 3, 2, 1, 1, 3, 1, 0, 3, 0, 3, 1, 0, 3, 3, 1, 3, 0, 3, 2,\n",
              "       3, 3, 0, 2, 1, 3, 3, 0, 1, 3, 0, 3, 0, 3, 3, 2, 2, 3, 3, 1, 2, 0,\n",
              "       1, 1, 1, 3, 2, 1, 1, 2, 1, 3, 2, 1, 1, 1, 2, 0, 1, 2, 1, 1, 1, 3,\n",
              "       1, 0, 3, 2, 2, 1, 1, 0, 0, 2, 3, 0, 2, 1, 0, 3, 3, 1, 1, 3, 2, 3,\n",
              "       2, 1, 1, 1, 0, 1, 1, 3, 1, 2, 1, 3, 0, 3, 3, 2, 2, 0, 3, 2, 3, 3,\n",
              "       1, 0, 2, 1, 0, 2, 0, 0, 2, 1, 0, 1, 3, 3, 1, 1, 0, 2, 0, 0, 0, 0,\n",
              "       1, 2, 0, 2, 1, 2, 1, 1, 0, 1, 0, 3, 3, 2, 2, 2, 0, 1, 3, 0, 2, 2,\n",
              "       2, 1, 0, 3, 1, 0, 3, 0, 2, 3, 1, 2, 1, 0, 1, 0, 1, 0, 3, 0, 2, 1,\n",
              "       1, 1, 0, 1, 1, 0, 3, 1, 0, 2, 0, 0, 0, 0, 3, 1, 2, 2, 2, 1, 0, 3,\n",
              "       3, 1, 2, 3, 0, 0, 3, 3, 1, 1, 1, 3, 3, 3, 2, 2, 3, 2, 0, 2, 3, 1,\n",
              "       3, 3, 2, 2, 0, 2, 2, 1, 2, 1, 1, 1, 2, 0, 1, 2, 0, 3, 0, 3, 2, 0,\n",
              "       1, 0, 2, 1, 1, 2, 1, 3, 0, 0, 2, 0, 0, 1, 2, 0])"
            ]
          },
          "metadata": {},
          "execution_count": 20
        }
      ]
    },
    {
      "cell_type": "markdown",
      "source": [
        "##**Evaluating our model's accuracy**"
      ],
      "metadata": {
        "id": "D7fR3ohOsdLK"
      }
    },
    {
      "cell_type": "code",
      "source": [
        "from sklearn.metrics import accuracy_score\n",
        "accuracy_score(pred,ytest) * 100"
      ],
      "metadata": {
        "colab": {
          "base_uri": "https://localhost:8080/"
        },
        "id": "k_N4dYLSsiZZ",
        "outputId": "263d4d6c-0fcf-4984-b9e3-2dabb42e85f1"
      },
      "execution_count": null,
      "outputs": [
        {
          "output_type": "execute_result",
          "data": {
            "text/plain": [
              "98.8"
            ]
          },
          "metadata": {},
          "execution_count": 23
        }
      ]
    }
  ]
}